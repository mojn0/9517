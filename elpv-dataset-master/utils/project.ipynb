{
 "cells": [
  {
   "cell_type": "code",
   "execution_count": 31,
   "metadata": {},
   "outputs": [],
   "source": [
    "##############################\n",
    "### Place all imports here ###\n",
    "##############################\n",
    "import cv2 as cv\n",
    "import numpy as np\n",
    "import matplotlib.pyplot as plt\n",
    "import tensorflow as tf\n",
    "from tensorflow.keras.models import Sequential\n",
    "from tensorflow.keras.layers import Dense, Conv2D, Flatten, MaxPooling2D, Dropout\n",
    "from elpv_reader import load_dataset_cv2\n",
    "\n",
    "from sklearn.metrics import f1_score, precision_score, recall_score, precision_recall_fscore_support\n",
    "from sklearn.preprocessing import MultiLabelBinarizer"
   ]
  },
  {
   "attachments": {},
   "cell_type": "markdown",
   "metadata": {},
   "source": [
    "# Method 1:"
   ]
  },
  {
   "cell_type": "code",
   "execution_count": null,
   "metadata": {},
   "outputs": [],
   "source": []
  },
  {
   "attachments": {},
   "cell_type": "markdown",
   "metadata": {},
   "source": [
    "# Method 2:\n",
    "\n",
    "In this method, we create a CNN model with 3 convolutional layers and 2 fully connected layers. The first convolutional layer has 16 filters, the second has 32 filters and the third has 64 filters. The first fully connected layer has 256 neurons and the second has 4 neurons and inbetween these two fully connected layers, there is a dropout which randomly drops some neurons inorder to counteract overfitting. The activation function used in all the layers is ReLU. The model is trained for 20 epochs with a batch size of 64 for training and 32 for validation and testing."
   ]
  },
  {
   "attachments": {},
   "cell_type": "markdown",
   "metadata": {},
   "source": [
    "### Load\\Preprocess Data\n",
    "In this stage, we load the data from the reader file and preprocess it. The preprocessing steps include using Stratified Sampling to split the data into training, validation and testing sets. The training set is used to train the model, the validation set is used to tune the hyperparameters and the testing set is used to test the model. The data is also normalized by dividing it by 255.0 so that the values are between 0 and 1. The data is also shuffled and batched so that the model does not learn the order of the data."
   ]
  },
  {
   "cell_type": "code",
   "execution_count": 2,
   "metadata": {},
   "outputs": [],
   "source": [
    "# Load dataset from a new custom function which uses cv2 rather than numpy to load images\n",
    "# This retains the color channels of the images in the array\n",
    "images, proba, types = load_dataset_cv2()"
   ]
  },
  {
   "cell_type": "code",
   "execution_count": 3,
   "metadata": {},
   "outputs": [],
   "source": [
    "# Seperate into training, validation, and testing sets\n",
    "# Use Stratified Sampling to ensure that the training, validation, and testing sets have the same distribution of classes\n",
    "# New images can be created by flipping the existing images horizontally and vertically\n",
    "# This preserves the details necessary for the model to make accurate predictions while also increasing the size of the dataset\n",
    "\n",
    "unique_proba = np.unique(proba)\n",
    "unique_types = np.unique(types)\n",
    "\n",
    "sampled_training_data = []\n",
    "sampled_training_labels = []\n",
    "\n",
    "sampled_validation_data = []\n",
    "sampled_validation_labels = []\n",
    "\n",
    "sampled_testing_data = []\n",
    "sampled_testing_labels = []\n",
    "\n",
    "for label in unique_proba:\n",
    "    indices = np.where(proba == label)[0]\n",
    "    \n",
    "    sample_training_size = int((len(images) * 0.50) * len(indices) / len(images))\n",
    "    sample_val_test_size = int((len(images) * 0.25) * len(indices) / len(images))\n",
    "    \n",
    "    sample_training_indices = np.random.choice(indices, size=sample_training_size, replace = True)\n",
    "    sample_validation_indices = np.random.choice(indices, size=sample_val_test_size, replace = True)\n",
    "    sample_testing_indices = np.random.choice(indices, size=sample_val_test_size, replace = True)\n",
    "    \n",
    "    sampled_training_data.append(images[sample_training_indices])\n",
    "    sampled_training_labels.append(proba[sample_training_indices])\n",
    "    \n",
    "    sampled_validation_data.append(images[sample_validation_indices])\n",
    "    sampled_validation_labels.append(proba[sample_validation_indices])\n",
    "    \n",
    "    sampled_testing_data.append(images[sample_testing_indices])\n",
    "    sampled_testing_labels.append(proba[sample_testing_indices])"
   ]
  },
  {
   "cell_type": "code",
   "execution_count": 4,
   "metadata": {},
   "outputs": [],
   "source": [
    "# Create training set\n",
    "# Training set is 50% of the dataset\n",
    "# Validation and testing sets are 25% of the dataset each\n",
    "# The following code is used to combine the sampled data into the training, validation, and testing sets\n",
    "# The data is combined into a single array for each set\n",
    "\n",
    "training_size = int((len(images) * 0.5))\n",
    "training_images = np.zeros(shape=(training_size, 300, 300, 3), dtype=np.uint8)\n",
    "training_labels = np.zeros(shape=(training_size,))\n",
    "\n",
    "index = 0\n",
    "for i in range(len(sampled_training_data)):\n",
    "    for j in range(len(sampled_training_data[i])):\n",
    "        temp = sampled_training_data[i][j]\n",
    "        training_images[index] = temp\n",
    "\n",
    "        temp = sampled_training_labels[i][j]\n",
    "        training_labels[index] = temp\n",
    "        index += 1\n",
    "        \n",
    "# Create validation and testing sets\n",
    "val_test_size = int((len(images) * 0.25))\n",
    "validation_images = np.zeros(shape=(val_test_size - 1, 300, 300, 3), dtype=np.uint8)\n",
    "validation_labels = np.zeros(shape=(val_test_size - 1,))\n",
    "testing_images = np.zeros(shape=(int((len(images) * 0.25)) - 1, 300, 300, 3), dtype=np.uint8)\n",
    "testing_labels = np.zeros(shape=(int((len(images) * 0.25)) - 1,))\n",
    "\n",
    "index = 0\n",
    "for i in range(len(sampled_validation_data)):\n",
    "    for j in range(len(sampled_validation_data[i])):\n",
    "        temp = sampled_validation_data[i][j]\n",
    "        validation_images[index] = temp\n",
    "        temp = sampled_validation_labels[i][j]\n",
    "        validation_labels[index] = temp\n",
    "        \n",
    "        temp = sampled_testing_data[i][j]\n",
    "        testing_images[index] = temp\n",
    "        temp = sampled_testing_labels[i][j]\n",
    "        testing_labels[index] = temp\n",
    "        \n",
    "        index += 1"
   ]
  },
  {
   "cell_type": "code",
   "execution_count": 5,
   "metadata": {},
   "outputs": [],
   "source": [
    "# Normalize the images to be between 0 and 1\n",
    "training_images, validation_images, testing_images = training_images / 255.0, validation_images / 255.0, testing_images / 255.0"
   ]
  },
  {
   "cell_type": "code",
   "execution_count": 6,
   "metadata": {},
   "outputs": [],
   "source": [
    "# Create the datasets\n",
    "# Shuffle and batch the datasets to ensure that the model does not learn the order of the images\n",
    "training_dataset = tf.data.Dataset.from_tensor_slices((training_images, training_labels))\n",
    "training_dataset = training_dataset.shuffle(len(training_images))\n",
    "training_dataset = training_dataset.batch(64)\n",
    "\n",
    "validation_dataset = tf.data.Dataset.from_tensor_slices((validation_images, validation_labels))\n",
    "validation_dataset = validation_dataset.shuffle(len(validation_images))\n",
    "validation_dataset = validation_dataset.batch(32)\n",
    "\n",
    "testing_dataset = tf.data.Dataset.from_tensor_slices((testing_images, testing_labels))\n",
    "testing_dataset = testing_dataset.shuffle(len(testing_images))\n",
    "testing_dataset = testing_dataset.batch(32)"
   ]
  },
  {
   "attachments": {},
   "cell_type": "markdown",
   "metadata": {},
   "source": [
    "### Build the Model\n",
    "In this stage, we build the model using the Sequential API. The model consists of 3 convolutional layers and 2 fully connected layers. The first convolutional layer has 16 filters, the second has 32 filters and the third has 64 filters. The first fully connected layer has 256 neurons and the second has 4 neurons and inbetween these two fully connected layers, there is a dropout which randomly drops some neurons inorder to counteract overfitting. The activation function used in all the layers is ReLU. The model is trained for 20 epochs with a batch size of 64 for training and 32 for validation and testing. Additionally, there is a callback which stops the training if the validation accuracy does not improve for 3 epochs."
   ]
  },
  {
   "cell_type": "code",
   "execution_count": 7,
   "metadata": {},
   "outputs": [],
   "source": [
    "# Create the model\n",
    "# It is a 3 layer convolutional neural network\n",
    "model = Sequential()\n",
    "model.add(Conv2D(16, (3, 3), 1, activation='relu', input_shape=(300, 300, 3))) \n",
    "model.add(MaxPooling2D())\n",
    "model.add(Conv2D(32, (3, 3), 1, activation='relu'))\n",
    "model.add(MaxPooling2D())\n",
    "model.add(Conv2D(64, (3, 3), 1, activation='relu'))\n",
    "model.add(MaxPooling2D())\n",
    "\n",
    "# Flatten the output of the convolutional layers and add a dense layer\n",
    "model.add(Flatten())\n",
    "model.add(Dense(256, activation='relu'))\n",
    "model.add(Dropout(0.3))\n",
    "model.add(Dense(4, activation='softmax'))"
   ]
  },
  {
   "cell_type": "code",
   "execution_count": 8,
   "metadata": {},
   "outputs": [
    {
     "name": "stdout",
     "output_type": "stream",
     "text": [
      "Epoch 1/20\n",
      "21/21 [==============================] - 21s 821ms/step - loss: 0.8334 - accuracy: 0.5610 - val_loss: 0.7880 - val_accuracy: 0.2687\n",
      "Epoch 2/20\n",
      "21/21 [==============================] - 16s 741ms/step - loss: 0.5688 - accuracy: 0.5854 - val_loss: 0.5210 - val_accuracy: 0.6580\n",
      "Epoch 3/20\n",
      "21/21 [==============================] - 15s 731ms/step - loss: 0.5103 - accuracy: 0.6364 - val_loss: 0.5040 - val_accuracy: 0.6702\n",
      "Epoch 4/20\n",
      "21/21 [==============================] - 15s 725ms/step - loss: 0.4849 - accuracy: 0.6562 - val_loss: 0.5188 - val_accuracy: 0.6153\n",
      "Epoch 5/20\n",
      "21/21 [==============================] - 15s 718ms/step - loss: 0.4761 - accuracy: 0.6547 - val_loss: 0.4641 - val_accuracy: 0.6763\n",
      "Epoch 6/20\n",
      "21/21 [==============================] - 15s 714ms/step - loss: 0.4609 - accuracy: 0.6524 - val_loss: 0.5290 - val_accuracy: 0.6336\n",
      "Epoch 7/20\n",
      "21/21 [==============================] - 15s 717ms/step - loss: 0.4513 - accuracy: 0.6715 - val_loss: 0.5057 - val_accuracy: 0.6458\n",
      "Epoch 8/20\n",
      "21/21 [==============================] - 15s 718ms/step - loss: 0.4514 - accuracy: 0.6662 - val_loss: 0.4502 - val_accuracy: 0.6748\n",
      "Epoch 9/20\n",
      "21/21 [==============================] - 15s 718ms/step - loss: 0.4115 - accuracy: 0.6921 - val_loss: 0.4685 - val_accuracy: 0.6916\n",
      "Epoch 10/20\n",
      "21/21 [==============================] - 15s 729ms/step - loss: 0.4235 - accuracy: 0.6959 - val_loss: 0.4585 - val_accuracy: 0.6794\n",
      "Epoch 11/20\n",
      "21/21 [==============================] - 15s 710ms/step - loss: 0.4110 - accuracy: 0.6913 - val_loss: 0.4123 - val_accuracy: 0.6855\n",
      "Epoch 12/20\n",
      "21/21 [==============================] - 16s 757ms/step - loss: 0.3887 - accuracy: 0.7066 - val_loss: 0.4154 - val_accuracy: 0.6931\n",
      "Epoch 13/20\n",
      "21/21 [==============================] - 15s 717ms/step - loss: 0.3840 - accuracy: 0.7088 - val_loss: 0.4148 - val_accuracy: 0.7130\n",
      "Epoch 14/20\n",
      "21/21 [==============================] - 15s 718ms/step - loss: 0.3569 - accuracy: 0.7226 - val_loss: 0.3818 - val_accuracy: 0.7115\n",
      "Epoch 15/20\n",
      "21/21 [==============================] - 15s 716ms/step - loss: 0.3377 - accuracy: 0.7233 - val_loss: 0.4164 - val_accuracy: 0.7084\n",
      "Epoch 16/20\n",
      "21/21 [==============================] - 15s 714ms/step - loss: 0.3282 - accuracy: 0.7264 - val_loss: 0.3784 - val_accuracy: 0.7160\n",
      "Epoch 17/20\n",
      "21/21 [==============================] - 15s 739ms/step - loss: 0.3209 - accuracy: 0.7348 - val_loss: 0.4181 - val_accuracy: 0.6870\n",
      "Epoch 18/20\n",
      "21/21 [==============================] - 15s 727ms/step - loss: 0.3055 - accuracy: 0.7287 - val_loss: 0.3619 - val_accuracy: 0.7069\n",
      "Epoch 19/20\n",
      "21/21 [==============================] - 15s 727ms/step - loss: 0.2983 - accuracy: 0.7340 - val_loss: 0.3516 - val_accuracy: 0.7206\n",
      "Epoch 20/20\n",
      "21/21 [==============================] - 16s 739ms/step - loss: 0.2882 - accuracy: 0.7424 - val_loss: 0.3455 - val_accuracy: 0.7130\n"
     ]
    }
   ],
   "source": [
    "# Compile the model\n",
    "# Use the Adam optimizer and Sparse Categorical Crossentropy loss function\n",
    "model.compile(optimizer='adam', \n",
    "              loss=tf.keras.losses.SparseCategoricalCrossentropy(), \n",
    "              metrics=['accuracy'])\n",
    "earlystopping_callback = tf.keras.callbacks.EarlyStopping(monitor='val_loss', patience=3)\n",
    "history = model.fit(training_dataset, epochs=20, \n",
    "                    validation_data=(validation_dataset),\n",
    "                    callbacks=[earlystopping_callback])"
   ]
  },
  {
   "attachments": {},
   "cell_type": "markdown",
   "metadata": {},
   "source": [
    "### Evaluate and Test Model\n",
    "In this stage, we evaluate the model on the testing set. The model achieves an accuracy of ~0.70 on the testing set with a loss of ~0.40."
   ]
  },
  {
   "cell_type": "code",
   "execution_count": 9,
   "metadata": {},
   "outputs": [
    {
     "data": {
      "text/plain": [
       "<matplotlib.legend.Legend at 0x1ef65b51060>"
      ]
     },
     "execution_count": 9,
     "metadata": {},
     "output_type": "execute_result"
    },
    {
     "data": {
      "image/png": "[encoded data removed]",
      "text/plain": [
       "<Figure size 640x480 with 1 Axes>"
      ]
     },
     "metadata": {},
     "output_type": "display_data"
    }
   ],
   "source": [
    "# Plot the loss and accuracy of the model\n",
    "plt.plot(history.history['loss'], label='loss')\n",
    "plt.plot(history.history['val_loss'], label='val_loss')\n",
    "plt.plot(history.history['accuracy'], label='accuracy')\n",
    "plt.plot(history.history['val_accuracy'], label = 'val_accuracy')\n",
    "plt.xlabel('Epoch')\n",
    "plt.ylabel('Loss\\Accuracy')\n",
    "plt.ylim([0, 1])\n",
    "plt.legend(loc='lower right')"
   ]
  },
  {
   "cell_type": "code",
   "execution_count": 30,
   "metadata": {},
   "outputs": [
    {
     "name": "stdout",
     "output_type": "stream",
     "text": [
      "21/21 - 2s - loss: 0.3996 - accuracy: 0.6901 - 2s/epoch - 91ms/step\n",
      "Testing Data Accuracy: 69.00763511657715\n",
      "Testing Data Loss: 0.3995838463306427\n"
     ]
    }
   ],
   "source": [
    "# Evaluate the model on the testing dataset\n",
    "# This is the final accuracy of the model\n",
    "test_loss, test_acc = model.evaluate(testing_dataset, verbose=2)\n",
    "print(\"Testing Data Accuracy: \", end=\"\")\n",
    "print(test_acc * 100)\n",
    "print(\"Testing Data Loss: \", end=\"\")\n",
    "print(test_loss)"
   ]
  },
  {
   "attachments": {},
   "cell_type": "markdown",
   "metadata": {},
   "source": [
    "The f1 score is [tbd]"
   ]
  },
  {
   "cell_type": "code",
   "execution_count": 49,
   "metadata": {},
   "outputs": [
    {
     "name": "stdout",
     "output_type": "stream",
     "text": [
      "21/21 [==============================] - 2s 82ms/step\n",
      "655\n",
      "655\n"
     ]
    },
    {
     "ename": "ValueError",
     "evalue": "Multi-label binary indicator input with different numbers of labels",
     "output_type": "error",
     "traceback": [
      "\u001b[1;31m---------------------------------------------------------------------------\u001b[0m",
      "\u001b[1;31mValueError\u001b[0m                                Traceback (most recent call last)",
      "Cell \u001b[1;32mIn[49], line 11\u001b[0m\n\u001b[0;32m      8\u001b[0m \u001b[39mprint\u001b[39m(\u001b[39mlen\u001b[39m(y_true))\n\u001b[0;32m      9\u001b[0m \u001b[39mprint\u001b[39m(\u001b[39mlen\u001b[39m(y_pred))\n\u001b[1;32m---> 11\u001b[0m f1 \u001b[39m=\u001b[39m f1_score(y_true, y_pred, average\u001b[39m=\u001b[39;49m\u001b[39m'\u001b[39;49m\u001b[39mweighted\u001b[39;49m\u001b[39m'\u001b[39;49m)\n\u001b[0;32m     13\u001b[0m \u001b[39mprint\u001b[39m(\u001b[39mf\u001b[39m\u001b[39m'\u001b[39m\u001b[39mF1 Score: \u001b[39m\u001b[39m{\u001b[39;00mf1\u001b[39m}\u001b[39;00m\u001b[39m'\u001b[39m)\n",
      "File \u001b[1;32mc:\\Users\\pkay\\anaconda3\\envs\\assignment\\lib\\site-packages\\sklearn\\utils\\_param_validation.py:211\u001b[0m, in \u001b[0;36mvalidate_params.<locals>.decorator.<locals>.wrapper\u001b[1;34m(*args, **kwargs)\u001b[0m\n\u001b[0;32m    205\u001b[0m \u001b[39mtry\u001b[39;00m:\n\u001b[0;32m    206\u001b[0m     \u001b[39mwith\u001b[39;00m config_context(\n\u001b[0;32m    207\u001b[0m         skip_parameter_validation\u001b[39m=\u001b[39m(\n\u001b[0;32m    208\u001b[0m             prefer_skip_nested_validation \u001b[39mor\u001b[39;00m global_skip_validation\n\u001b[0;32m    209\u001b[0m         )\n\u001b[0;32m    210\u001b[0m     ):\n\u001b[1;32m--> 211\u001b[0m         \u001b[39mreturn\u001b[39;00m func(\u001b[39m*\u001b[39margs, \u001b[39m*\u001b[39m\u001b[39m*\u001b[39mkwargs)\n\u001b[0;32m    212\u001b[0m \u001b[39mexcept\u001b[39;00m InvalidParameterError \u001b[39mas\u001b[39;00m e:\n\u001b[0;32m    213\u001b[0m     \u001b[39m# When the function is just a wrapper around an estimator, we allow\u001b[39;00m\n\u001b[0;32m    214\u001b[0m     \u001b[39m# the function to delegate validation to the estimator, but we replace\u001b[39;00m\n\u001b[0;32m    215\u001b[0m     \u001b[39m# the name of the estimator by the name of the function in the error\u001b[39;00m\n\u001b[0;32m    216\u001b[0m     \u001b[39m# message to avoid confusion.\u001b[39;00m\n\u001b[0;32m    217\u001b[0m     msg \u001b[39m=\u001b[39m re\u001b[39m.\u001b[39msub(\n\u001b[0;32m    218\u001b[0m         \u001b[39mr\u001b[39m\u001b[39m\"\u001b[39m\u001b[39mparameter of \u001b[39m\u001b[39m\\\u001b[39m\u001b[39mw+ must be\u001b[39m\u001b[39m\"\u001b[39m,\n\u001b[0;32m    219\u001b[0m         \u001b[39mf\u001b[39m\u001b[39m\"\u001b[39m\u001b[39mparameter of \u001b[39m\u001b[39m{\u001b[39;00mfunc\u001b[39m.\u001b[39m\u001b[39m__qualname__\u001b[39m\u001b[39m}\u001b[39;00m\u001b[39m must be\u001b[39m\u001b[39m\"\u001b[39m,\n\u001b[0;32m    220\u001b[0m         \u001b[39mstr\u001b[39m(e),\n\u001b[0;32m    221\u001b[0m     )\n",
      "File \u001b[1;32mc:\\Users\\pkay\\anaconda3\\envs\\assignment\\lib\\site-packages\\sklearn\\metrics\\_classification.py:1238\u001b[0m, in \u001b[0;36mf1_score\u001b[1;34m(y_true, y_pred, labels, pos_label, average, sample_weight, zero_division)\u001b[0m\n\u001b[0;32m   1070\u001b[0m \u001b[39m@validate_params\u001b[39m(\n\u001b[0;32m   1071\u001b[0m     {\n\u001b[0;32m   1072\u001b[0m         \u001b[39m\"\u001b[39m\u001b[39my_true\u001b[39m\u001b[39m\"\u001b[39m: [\u001b[39m\"\u001b[39m\u001b[39marray-like\u001b[39m\u001b[39m\"\u001b[39m, \u001b[39m\"\u001b[39m\u001b[39msparse matrix\u001b[39m\u001b[39m\"\u001b[39m],\n\u001b[1;32m   (...)\u001b[0m\n\u001b[0;32m   1096\u001b[0m     zero_division\u001b[39m=\u001b[39m\u001b[39m\"\u001b[39m\u001b[39mwarn\u001b[39m\u001b[39m\"\u001b[39m,\n\u001b[0;32m   1097\u001b[0m ):\n\u001b[0;32m   1098\u001b[0m \u001b[39m    \u001b[39m\u001b[39m\"\"\"Compute the F1 score, also known as balanced F-score or F-measure.\u001b[39;00m\n\u001b[0;32m   1099\u001b[0m \n\u001b[0;32m   1100\u001b[0m \u001b[39m    The F1 score can be interpreted as a harmonic mean of the precision and\u001b[39;00m\n\u001b[1;32m   (...)\u001b[0m\n\u001b[0;32m   1236\u001b[0m \u001b[39m    array([0.66666667, 1.        , 0.66666667])\u001b[39;00m\n\u001b[0;32m   1237\u001b[0m \u001b[39m    \"\"\"\u001b[39;00m\n\u001b[1;32m-> 1238\u001b[0m     \u001b[39mreturn\u001b[39;00m fbeta_score(\n\u001b[0;32m   1239\u001b[0m         y_true,\n\u001b[0;32m   1240\u001b[0m         y_pred,\n\u001b[0;32m   1241\u001b[0m         beta\u001b[39m=\u001b[39;49m\u001b[39m1\u001b[39;49m,\n\u001b[0;32m   1242\u001b[0m         labels\u001b[39m=\u001b[39;49mlabels,\n\u001b[0;32m   1243\u001b[0m         pos_label\u001b[39m=\u001b[39;49mpos_label,\n\u001b[0;32m   1244\u001b[0m         average\u001b[39m=\u001b[39;49maverage,\n\u001b[0;32m   1245\u001b[0m         sample_weight\u001b[39m=\u001b[39;49msample_weight,\n\u001b[0;32m   1246\u001b[0m         zero_division\u001b[39m=\u001b[39;49mzero_division,\n\u001b[0;32m   1247\u001b[0m     )\n",
      "File \u001b[1;32mc:\\Users\\pkay\\anaconda3\\envs\\assignment\\lib\\site-packages\\sklearn\\utils\\_param_validation.py:184\u001b[0m, in \u001b[0;36mvalidate_params.<locals>.decorator.<locals>.wrapper\u001b[1;34m(*args, **kwargs)\u001b[0m\n\u001b[0;32m    182\u001b[0m global_skip_validation \u001b[39m=\u001b[39m get_config()[\u001b[39m\"\u001b[39m\u001b[39mskip_parameter_validation\u001b[39m\u001b[39m\"\u001b[39m]\n\u001b[0;32m    183\u001b[0m \u001b[39mif\u001b[39;00m global_skip_validation:\n\u001b[1;32m--> 184\u001b[0m     \u001b[39mreturn\u001b[39;00m func(\u001b[39m*\u001b[39margs, \u001b[39m*\u001b[39m\u001b[39m*\u001b[39mkwargs)\n\u001b[0;32m    186\u001b[0m func_sig \u001b[39m=\u001b[39m signature(func)\n\u001b[0;32m    188\u001b[0m \u001b[39m# Map *args/**kwargs to the function signature\u001b[39;00m\n",
      "File \u001b[1;32mc:\\Users\\pkay\\anaconda3\\envs\\assignment\\lib\\site-packages\\sklearn\\metrics\\_classification.py:1411\u001b[0m, in \u001b[0;36mfbeta_score\u001b[1;34m(y_true, y_pred, beta, labels, pos_label, average, sample_weight, zero_division)\u001b[0m\n\u001b[0;32m   1250\u001b[0m \u001b[39m@validate_params\u001b[39m(\n\u001b[0;32m   1251\u001b[0m     {\n\u001b[0;32m   1252\u001b[0m         \u001b[39m\"\u001b[39m\u001b[39my_true\u001b[39m\u001b[39m\"\u001b[39m: [\u001b[39m\"\u001b[39m\u001b[39marray-like\u001b[39m\u001b[39m\"\u001b[39m, \u001b[39m\"\u001b[39m\u001b[39msparse matrix\u001b[39m\u001b[39m\"\u001b[39m],\n\u001b[1;32m   (...)\u001b[0m\n\u001b[0;32m   1278\u001b[0m     zero_division\u001b[39m=\u001b[39m\u001b[39m\"\u001b[39m\u001b[39mwarn\u001b[39m\u001b[39m\"\u001b[39m,\n\u001b[0;32m   1279\u001b[0m ):\n\u001b[0;32m   1280\u001b[0m \u001b[39m    \u001b[39m\u001b[39m\"\"\"Compute the F-beta score.\u001b[39;00m\n\u001b[0;32m   1281\u001b[0m \n\u001b[0;32m   1282\u001b[0m \u001b[39m    The F-beta score is the weighted harmonic mean of precision and recall,\u001b[39;00m\n\u001b[1;32m   (...)\u001b[0m\n\u001b[0;32m   1408\u001b[0m \u001b[39m    0.38...\u001b[39;00m\n\u001b[0;32m   1409\u001b[0m \u001b[39m    \"\"\"\u001b[39;00m\n\u001b[1;32m-> 1411\u001b[0m     _, _, f, _ \u001b[39m=\u001b[39m precision_recall_fscore_support(\n\u001b[0;32m   1412\u001b[0m         y_true,\n\u001b[0;32m   1413\u001b[0m         y_pred,\n\u001b[0;32m   1414\u001b[0m         beta\u001b[39m=\u001b[39;49mbeta,\n\u001b[0;32m   1415\u001b[0m         labels\u001b[39m=\u001b[39;49mlabels,\n\u001b[0;32m   1416\u001b[0m         pos_label\u001b[39m=\u001b[39;49mpos_label,\n\u001b[0;32m   1417\u001b[0m         average\u001b[39m=\u001b[39;49maverage,\n\u001b[0;32m   1418\u001b[0m         warn_for\u001b[39m=\u001b[39;49m(\u001b[39m\"\u001b[39;49m\u001b[39mf-score\u001b[39;49m\u001b[39m\"\u001b[39;49m,),\n\u001b[0;32m   1419\u001b[0m         sample_weight\u001b[39m=\u001b[39;49msample_weight,\n\u001b[0;32m   1420\u001b[0m         zero_division\u001b[39m=\u001b[39;49mzero_division,\n\u001b[0;32m   1421\u001b[0m     )\n\u001b[0;32m   1422\u001b[0m     \u001b[39mreturn\u001b[39;00m f\n",
      "File \u001b[1;32mc:\\Users\\pkay\\anaconda3\\envs\\assignment\\lib\\site-packages\\sklearn\\utils\\_param_validation.py:184\u001b[0m, in \u001b[0;36mvalidate_params.<locals>.decorator.<locals>.wrapper\u001b[1;34m(*args, **kwargs)\u001b[0m\n\u001b[0;32m    182\u001b[0m global_skip_validation \u001b[39m=\u001b[39m get_config()[\u001b[39m\"\u001b[39m\u001b[39mskip_parameter_validation\u001b[39m\u001b[39m\"\u001b[39m]\n\u001b[0;32m    183\u001b[0m \u001b[39mif\u001b[39;00m global_skip_validation:\n\u001b[1;32m--> 184\u001b[0m     \u001b[39mreturn\u001b[39;00m func(\u001b[39m*\u001b[39margs, \u001b[39m*\u001b[39m\u001b[39m*\u001b[39mkwargs)\n\u001b[0;32m    186\u001b[0m func_sig \u001b[39m=\u001b[39m signature(func)\n\u001b[0;32m    188\u001b[0m \u001b[39m# Map *args/**kwargs to the function signature\u001b[39;00m\n",
      "File \u001b[1;32mc:\\Users\\pkay\\anaconda3\\envs\\assignment\\lib\\site-packages\\sklearn\\metrics\\_classification.py:1721\u001b[0m, in \u001b[0;36mprecision_recall_fscore_support\u001b[1;34m(y_true, y_pred, beta, labels, pos_label, average, warn_for, sample_weight, zero_division)\u001b[0m\n\u001b[0;32m   1563\u001b[0m \u001b[39m\u001b[39m\u001b[39m\"\"\"Compute precision, recall, F-measure and support for each class.\u001b[39;00m\n\u001b[0;32m   1564\u001b[0m \n\u001b[0;32m   1565\u001b[0m \u001b[39mThe precision is the ratio ``tp / (tp + fp)`` where ``tp`` is the number of\u001b[39;00m\n\u001b[1;32m   (...)\u001b[0m\n\u001b[0;32m   1718\u001b[0m \u001b[39m array([2, 2, 2]))\u001b[39;00m\n\u001b[0;32m   1719\u001b[0m \u001b[39m\"\"\"\u001b[39;00m\n\u001b[0;32m   1720\u001b[0m zero_division_value \u001b[39m=\u001b[39m _check_zero_division(zero_division)\n\u001b[1;32m-> 1721\u001b[0m labels \u001b[39m=\u001b[39m _check_set_wise_labels(y_true, y_pred, average, labels, pos_label)\n\u001b[0;32m   1723\u001b[0m \u001b[39m# Calculate tp_sum, pred_sum, true_sum ###\u001b[39;00m\n\u001b[0;32m   1724\u001b[0m samplewise \u001b[39m=\u001b[39m average \u001b[39m==\u001b[39m \u001b[39m\"\u001b[39m\u001b[39msamples\u001b[39m\u001b[39m\"\u001b[39m\n",
      "File \u001b[1;32mc:\\Users\\pkay\\anaconda3\\envs\\assignment\\lib\\site-packages\\sklearn\\metrics\\_classification.py:1502\u001b[0m, in \u001b[0;36m_check_set_wise_labels\u001b[1;34m(y_true, y_pred, average, labels, pos_label)\u001b[0m\n\u001b[0;32m   1499\u001b[0m y_type, y_true, y_pred \u001b[39m=\u001b[39m _check_targets(y_true, y_pred)\n\u001b[0;32m   1500\u001b[0m \u001b[39m# Convert to Python primitive type to avoid NumPy type / Python str\u001b[39;00m\n\u001b[0;32m   1501\u001b[0m \u001b[39m# comparison. See https://github.com/numpy/numpy/issues/6784\u001b[39;00m\n\u001b[1;32m-> 1502\u001b[0m present_labels \u001b[39m=\u001b[39m unique_labels(y_true, y_pred)\u001b[39m.\u001b[39mtolist()\n\u001b[0;32m   1503\u001b[0m \u001b[39mif\u001b[39;00m average \u001b[39m==\u001b[39m \u001b[39m\"\u001b[39m\u001b[39mbinary\u001b[39m\u001b[39m\"\u001b[39m:\n\u001b[0;32m   1504\u001b[0m     \u001b[39mif\u001b[39;00m y_type \u001b[39m==\u001b[39m \u001b[39m\"\u001b[39m\u001b[39mbinary\u001b[39m\u001b[39m\"\u001b[39m:\n",
      "File \u001b[1;32mc:\\Users\\pkay\\anaconda3\\envs\\assignment\\lib\\site-packages\\sklearn\\utils\\multiclass.py:97\u001b[0m, in \u001b[0;36munique_labels\u001b[1;34m(*ys)\u001b[0m\n\u001b[0;32m     87\u001b[0m \u001b[39m# Check consistency for the indicator format\u001b[39;00m\n\u001b[0;32m     88\u001b[0m \u001b[39mif\u001b[39;00m (\n\u001b[0;32m     89\u001b[0m     label_type \u001b[39m==\u001b[39m \u001b[39m\"\u001b[39m\u001b[39mmultilabel-indicator\u001b[39m\u001b[39m\"\u001b[39m\n\u001b[0;32m     90\u001b[0m     \u001b[39mand\u001b[39;00m \u001b[39mlen\u001b[39m(\n\u001b[1;32m   (...)\u001b[0m\n\u001b[0;32m     95\u001b[0m     \u001b[39m>\u001b[39m \u001b[39m1\u001b[39m\n\u001b[0;32m     96\u001b[0m ):\n\u001b[1;32m---> 97\u001b[0m     \u001b[39mraise\u001b[39;00m \u001b[39mValueError\u001b[39;00m(\n\u001b[0;32m     98\u001b[0m         \u001b[39m\"\u001b[39m\u001b[39mMulti-label binary indicator input with different numbers of labels\u001b[39m\u001b[39m\"\u001b[39m\n\u001b[0;32m     99\u001b[0m     )\n\u001b[0;32m    101\u001b[0m \u001b[39m# Get the unique set of labels\u001b[39;00m\n\u001b[0;32m    102\u001b[0m _unique_labels \u001b[39m=\u001b[39m _FN_UNIQUE_LABELS\u001b[39m.\u001b[39mget(label_type, \u001b[39mNone\u001b[39;00m)\n",
      "\u001b[1;31mValueError\u001b[0m: Multi-label binary indicator input with different numbers of labels"
     ]
    }
   ],
   "source": [
    "# Calculate the F1 Score of the model\n",
    "\n",
    "# Not working atm\n",
    "\n",
    "predictions = model.predict(testing_dataset)\n",
    "mlb = MultiLabelBinarizer()\n",
    "predictions_binary = (predictions > 0.5).astype(int)\n",
    "\n",
    "y_true = mlb.fit_transform(testing_labels.astype(str))\n",
    "y_pred = mlb.fit_transform(predictions_binary.astype(str))\n",
    "\n",
    "print(len(y_true))\n",
    "print(len(y_pred))\n",
    "\n",
    "precision, recall,  = f1_score(y_true, y_pred, average='weighted')\n",
    "\n",
    "print(f'F1 Score: {f1}')\n"
   ]
  }
 ],
 "metadata": {
  "kernelspec": {
   "display_name": "tf",
   "language": "python",
   "name": "python3"
  },
  "language_info": {
   "codemirror_mode": {
    "name": "ipython",
    "version": 3
   },
   "file_extension": ".py",
   "mimetype": "text/x-python",
   "name": "python",
   "nbconvert_exporter": "python",
   "pygments_lexer": "ipython3",
   "version": "3.10.13"
  },
  "orig_nbformat": 4
 },
 "nbformat": 4,
 "nbformat_minor": 2
}
