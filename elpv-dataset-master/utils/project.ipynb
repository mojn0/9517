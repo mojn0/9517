{
 "cells": [
  {
   "cell_type": "code",
   "execution_count": null,
   "metadata": {},
   "outputs": [],
   "source": [
    "##############################\n",
    "### Place all imports here ###\n",
    "##############################\n",
    "import cv2 as cv\n",
    "import numpy as np\n",
    "import matplotlib.pyplot as plt\n",
    "import tensorflow as tf\n",
    "from tensorflow.keras.models import Sequential\n",
    "from tensorflow.keras.layers import Dense, Conv2D, Flatten, Dropout, MaxPooling2D, BatchNormalization\n",
    "import os\n",
    "import sys\n",
    "from elpv_reader import load_dataset\n",
    "from PIL import Image, ImageOps"
   ]
  },
  {
   "attachments": {},
   "cell_type": "markdown",
   "metadata": {},
   "source": [
    "# Method 1:"
   ]
  },
  {
   "cell_type": "code",
   "execution_count": null,
   "metadata": {},
   "outputs": [],
   "source": []
  },
  {
   "attachments": {},
   "cell_type": "markdown",
   "metadata": {},
   "source": [
    "# Method 2:"
   ]
  },
  {
   "cell_type": "code",
   "execution_count": null,
   "metadata": {},
   "outputs": [],
   "source": [
    "images, proba, types = load_dataset()"
   ]
  },
  {
   "cell_type": "code",
   "execution_count": null,
   "metadata": {},
   "outputs": [],
   "source": [
    "tempimages = images[:1000]\n",
    "tempproba = proba[:1000]\n",
    "temptypes = types[:1000]\n",
    "\n",
    "validation_images = images[1000:1500]\n",
    "validation_proba = proba[1000:1500]\n",
    "validation_types = types[1000:1500]\n",
    "\n",
    "testing_images = images[1500:]\n",
    "testing_proba = proba[1500:]\n",
    "testing_types = types[1500:]"
   ]
  },
  {
   "cell_type": "code",
   "execution_count": null,
   "metadata": {},
   "outputs": [],
   "source": [
    "print(images.shape)"
   ]
  },
  {
   "cell_type": "code",
   "execution_count": null,
   "metadata": {},
   "outputs": [],
   "source": [
    "training_images = np.zeros((3000, 300, 300))\n",
    "training_proba = np.zeros(3000)\n",
    "training_types = np.chararray(3000, itemsize=4)\n",
    "\n",
    "for i in range(1000):\n",
    "    training_images[i] = tempimages[i]\n",
    "    training_proba[i] = tempproba[i]\n",
    "    training_types[i] = temptypes[i]\n",
    "    \n",
    "    image = Image.fromarray(tempimages[i])\n",
    "    imflip = ImageOps.flip(image)\n",
    "    flipped = np.array(imflip)\n",
    "    training_images[i + 1000] = flipped\n",
    "    training_proba[i + 1000] = tempproba[i]\n",
    "    training_types[i + 1000] = temptypes[i]\n",
    "    \n",
    "    image2 = Image.fromarray(tempimages[i])\n",
    "    imflip2 = ImageOps.mirror(image2)\n",
    "    flipped2 = np.array(imflip2)\n",
    "    training_images[i + 2000] = flipped2\n",
    "    training_proba[i + 2000] = tempproba[i]\n",
    "    training_types[i + 2000] = temptypes[i]"
   ]
  },
  {
   "cell_type": "code",
   "execution_count": null,
   "metadata": {},
   "outputs": [],
   "source": [
    "train_dataset = tf.data.Dataset.from_tensor_slices((training_images, training_proba, training_types))\n",
    "train_dataset = train_dataset.shuffle(3000).batch(32)\n",
    "\n",
    "val_dataset = tf.data.Dataset.from_tensor_slices((validation_images, validation_proba, validation_types))\n",
    "val_dataset = val_dataset.shuffle(500).batch(32)\n",
    "\n",
    "test_dataset = tf.data.Dataset.from_tensor_slices((testing_images, testing_proba, testing_types))\n",
    "test_dataset = test_dataset.shuffle(1000).batch(32)"
   ]
  },
  {
   "cell_type": "code",
   "execution_count": null,
   "metadata": {},
   "outputs": [],
   "source": [
    "train_iterator = train_dataset.as_numpy_iterator()\n",
    "train_batch = next(train_iterator)"
   ]
  },
  {
   "cell_type": "code",
   "execution_count": null,
   "metadata": {},
   "outputs": [],
   "source": [
    "model = Sequential()"
   ]
  },
  {
   "cell_type": "code",
   "execution_count": null,
   "metadata": {},
   "outputs": [],
   "source": [
    "model.add(Conv2D(32, (3, 3), 1, activation='relu', input_shape=(300, 300, 1))) \n",
    "model.add(MaxPooling2D())\n",
    "\n",
    "model.add(Conv2D(64, (3, 3), 1, activation='relu'))\n",
    "model.add(MaxPooling2D())\n",
    "\n",
    "model.add(Conv2D(128, (3, 3), 1, activation='relu'))\n",
    "model.add(MaxPooling2D())\n",
    "\n",
    "model.add(Flatten())\n",
    "\n",
    "model.add(Dense(256, activation='relu'))\n",
    "model.add(Dense(4, activation='softmax'))"
   ]
  },
  {
   "cell_type": "code",
   "execution_count": null,
   "metadata": {},
   "outputs": [],
   "source": [
    "model.compile(optimizer='adam', loss='sparse_categorical_crossentropy', metrics=['accuracy'])"
   ]
  },
  {
   "cell_type": "code",
   "execution_count": null,
   "metadata": {},
   "outputs": [],
   "source": [
    "model.summary()"
   ]
  },
  {
   "cell_type": "code",
   "execution_count": null,
   "metadata": {},
   "outputs": [],
   "source": [
    "logdir='logs'"
   ]
  },
  {
   "cell_type": "code",
   "execution_count": null,
   "metadata": {},
   "outputs": [],
   "source": [
    "tensorboard_callback = tf.keras.callbacks.TensorBoard(log_dir=logdir)"
   ]
  },
  {
   "cell_type": "code",
   "execution_count": null,
   "metadata": {},
   "outputs": [],
   "source": [
    "history = model.fit(train_dataset, epochs=10, callbacks=[tensorboard_callback])"
   ]
  }
 ],
 "metadata": {
  "kernelspec": {
   "display_name": "tf",
   "language": "python",
   "name": "python3"
  },
  "language_info": {
   "codemirror_mode": {
    "name": "ipython",
    "version": 3
   },
   "file_extension": ".py",
   "mimetype": "text/x-python",
   "name": "python",
   "nbconvert_exporter": "python",
   "pygments_lexer": "ipython3",
   "version": "3.10.13"
  },
  "orig_nbformat": 4
 },
 "nbformat": 4,
 "nbformat_minor": 2
}
